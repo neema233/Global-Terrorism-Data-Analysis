{
 "cells": [
  {
   "cell_type": "markdown",
   "metadata": {},
   "source": [
    "Use Dask to handle large data eSiciently and compare the performance with Pandas for certain operations"
   ]
  },
  {
   "cell_type": "code",
   "execution_count": 1,
   "metadata": {},
   "outputs": [
    {
     "name": "stderr",
     "output_type": "stream",
     "text": [
      "c:\\Users\\KimoStore\\AppData\\Local\\Programs\\Python\\Python311\\Lib\\site-packages\\dask\\dataframe\\__init__.py:42: FutureWarning: \n",
      "Dask dataframe query planning is disabled because dask-expr is not installed.\n",
      "\n",
      "You can install it with `pip install dask[dataframe]` or `conda install dask`.\n",
      "This will raise in a future version.\n",
      "\n",
      "  warnings.warn(msg, FutureWarning)\n"
     ]
    }
   ],
   "source": [
    "import pandas as pd\n",
    "import dask.dataframe as dd\n",
    "import time\n",
    "import memory_profiler\n",
    "import warnings \n",
    "warnings.filterwarnings('ignore')"
   ]
  },
  {
   "cell_type": "code",
   "execution_count": 2,
   "metadata": {},
   "outputs": [
    {
     "name": "stdout",
     "output_type": "stream",
     "text": [
      "Pandas memory usage: 118.2265625\n"
     ]
    }
   ],
   "source": [
    "pandas_memory_usage=memory_profiler.memory_usage()[0]\n",
    "df = pd.read_csv('globalterrorismdb_0718dist.csv',encoding='ISO-8859-1')\n",
    "print(f\"Pandas memory usage: {pandas_memory_usage}\")"
   ]
  },
  {
   "cell_type": "code",
   "execution_count": 3,
   "metadata": {},
   "outputs": [
    {
     "name": "stdout",
     "output_type": "stream",
     "text": [
      "Dask memory usage: 448.0390625\n"
     ]
    }
   ],
   "source": [
    "dask_memory_usage=pandas_memory_usage=memory_profiler.memory_usage()[0]\n",
    "dask_df=dd.read_csv('globalterrorismdb_0718dist.csv',encoding='ISO-8859-1')\n",
    "print(f\"Dask memory usage: {dask_memory_usage}\")"
   ]
  },
  {
   "cell_type": "markdown",
   "metadata": {},
   "source": [
    "Comparing summerizing data"
   ]
  },
  {
   "cell_type": "code",
   "execution_count": 4,
   "metadata": {},
   "outputs": [
    {
     "name": "stdout",
     "output_type": "stream",
     "text": [
      "            eventid          iyear         imonth           iday  \\\n",
      "count  1.816910e+05  181691.000000  181691.000000  181691.000000   \n",
      "mean   2.002705e+11    2002.638997       6.467277      15.505644   \n",
      "std    1.325957e+09      13.259430       3.388303       8.814045   \n",
      "min    1.970000e+11    1970.000000       0.000000       0.000000   \n",
      "25%    1.991021e+11    1991.000000       4.000000       8.000000   \n",
      "50%    2.009022e+11    2009.000000       6.000000      15.000000   \n",
      "75%    2.014081e+11    2014.000000       9.000000      23.000000   \n",
      "max    2.017123e+11    2017.000000      12.000000      31.000000   \n",
      "\n",
      "            extended        country         region       latitude  \\\n",
      "count  181691.000000  181691.000000  181691.000000  177135.000000   \n",
      "mean        0.045346     131.968501       7.160938      23.498343   \n",
      "std         0.208063     112.414535       2.933408      18.569242   \n",
      "min         0.000000       4.000000       1.000000     -53.154613   \n",
      "25%         0.000000      78.000000       5.000000      11.510046   \n",
      "50%         0.000000      98.000000       6.000000      31.467463   \n",
      "75%         0.000000     160.000000      10.000000      34.685087   \n",
      "max         1.000000    1004.000000      12.000000      74.633553   \n",
      "\n",
      "          longitude    specificity  ...     ransomamt   ransomamtus  \\\n",
      "count  1.771340e+05  181685.000000  ...  1.350000e+03  5.630000e+02   \n",
      "mean  -4.586957e+02       1.451452  ...  3.172530e+06  5.784865e+05   \n",
      "std    2.047790e+05       0.995430  ...  3.021157e+07  7.077924e+06   \n",
      "min   -8.618590e+07       1.000000  ... -9.900000e+01 -9.900000e+01   \n",
      "25%    4.545640e+00       1.000000  ...  0.000000e+00  0.000000e+00   \n",
      "50%    4.324651e+01       1.000000  ...  1.500000e+04  0.000000e+00   \n",
      "75%    6.871033e+01       1.000000  ...  4.000000e+05  0.000000e+00   \n",
      "max    1.793667e+02       5.000000  ...  1.000000e+09  1.320000e+08   \n",
      "\n",
      "         ransompaid  ransompaidus  hostkidoutcome     nreleased  \\\n",
      "count  7.740000e+02    552.000000    10991.000000  10400.000000   \n",
      "mean   7.179437e+05    240.378623        4.629242    -29.018269   \n",
      "std    1.014392e+07   2940.967293        2.035360     65.720119   \n",
      "min   -9.900000e+01    -99.000000        1.000000    -99.000000   \n",
      "25%   -9.900000e+01      0.000000        2.000000    -99.000000   \n",
      "50%    0.000000e+00      0.000000        4.000000      0.000000   \n",
      "75%    1.273412e+03      0.000000        7.000000      1.000000   \n",
      "max    2.750000e+08  48000.000000        7.000000   2769.000000   \n",
      "\n",
      "             INT_LOG       INT_IDEO       INT_MISC        INT_ANY  \n",
      "count  181691.000000  181691.000000  181691.000000  181691.000000  \n",
      "mean       -4.543731      -4.464398       0.090010      -3.945952  \n",
      "std         4.543547       4.637152       0.568457       4.691325  \n",
      "min        -9.000000      -9.000000      -9.000000      -9.000000  \n",
      "25%        -9.000000      -9.000000       0.000000      -9.000000  \n",
      "50%        -9.000000      -9.000000       0.000000       0.000000  \n",
      "75%         0.000000       0.000000       0.000000       0.000000  \n",
      "max         1.000000       1.000000       1.000000       1.000000  \n",
      "\n",
      "[8 rows x 77 columns]\n",
      "Pandas time: 0.6696770191192627\n"
     ]
    }
   ],
   "source": [
    "start_time = time.time()\n",
    "print(df.describe())\n",
    "end_time = time.time()\n",
    "print(f\"Pandas time: {end_time - start_time}\")\n"
   ]
  },
  {
   "cell_type": "code",
   "execution_count": 5,
   "metadata": {},
   "outputs": [
    {
     "name": "stdout",
     "output_type": "stream",
     "text": [
      "Dask DataFrame Structure:\n",
      "               eventid    iyear   imonth     iday approxdate extended resolution  country   region latitude longitude specificity vicinity    crit1    crit2    crit3 doubtterr alternative multiple  success  suicide attacktype1 attacktype2 attacktype2_txt attacktype3 attacktype3_txt targtype1 targsubtype1  natlty1 targtype2 targtype2_txt targsubtype2 targsubtype2_txt    corp2  target2  natlty2 natlty2_txt targtype3 targtype3_txt targsubtype3 targsubtype3_txt    corp3  target3  natlty3 natlty3_txt gsubname   gname2 gsubname2   gname3 gsubname3 guncertain1 guncertain2 guncertain3 individual   nperps nperpcap  claimed claimmode   claim2 claimmode2 claimmode2_txt   claim3 claimmode3 claimmode3_txt compclaim weaptype1 weapsubtype1 weaptype2 weaptype2_txt weapsubtype2 weapsubtype2_txt weaptype3 weaptype3_txt weapsubtype3 weapsubtype3_txt weaptype4 weaptype4_txt weapsubtype4 weapsubtype4_txt    nkill  nkillus nkillter   nwound nwoundus nwoundte property propextent propvalue ishostkid nhostkid nhostkidus   nhours    ndays   divert   ransom ransomamt ransomamtus ransompaid ransompaidus ransomnote hostkidoutcome hostkidoutcome_txt nreleased  INT_LOG INT_IDEO INT_MISC  INT_ANY  related\n",
      "npartitions=1                                                                                                                                                                                                                                                                                                                                                                                                                                                                                                                                                                                                                                                                                                                                                                                                                                                                                                                                                                                                                                                                                                                                                                                                                           \n",
      "               float64  float64  float64  float64    float64  float64    float64  float64  float64  float64   float64     float64  float64  float64  float64  float64   float64     float64  float64  float64  float64     float64     float64         float64     float64         float64   float64      float64  float64   float64       float64      float64          float64  float64  float64  float64     float64   float64       float64      float64          float64  float64  float64  float64     float64  float64  float64   float64  float64   float64     float64     float64     float64    float64  float64  float64  float64   float64  float64    float64        float64  float64    float64        float64   float64   float64      float64   float64       float64      float64          float64   float64       float64      float64          float64   float64       float64      float64          float64  float64  float64  float64  float64  float64  float64  float64    float64   float64   float64  float64    float64  float64  float64  float64  float64   float64     float64    float64      float64    float64        float64            float64   float64  float64  float64  float64  float64  float64\n",
      "                   ...      ...      ...      ...        ...      ...        ...      ...      ...      ...       ...         ...      ...      ...      ...      ...       ...         ...      ...      ...      ...         ...         ...             ...         ...             ...       ...          ...      ...       ...           ...          ...              ...      ...      ...      ...         ...       ...           ...          ...              ...      ...      ...      ...         ...      ...      ...       ...      ...       ...         ...         ...         ...        ...      ...      ...      ...       ...      ...        ...            ...      ...        ...            ...       ...       ...          ...       ...           ...          ...              ...       ...           ...          ...              ...       ...           ...          ...              ...      ...      ...      ...      ...      ...      ...      ...        ...       ...       ...      ...        ...      ...      ...      ...      ...       ...         ...        ...          ...        ...            ...                ...       ...      ...      ...      ...      ...      ...\n",
      "Dask Name: describe-numeric, 344 graph layers\n",
      "Dask time: 0.48949503898620605\n"
     ]
    }
   ],
   "source": [
    "start_time = time.time()\n",
    "print(dask_df.describe())\n",
    "end_time = time.time()\n",
    "print(f\"Dask time: {end_time - start_time}\")"
   ]
  },
  {
   "cell_type": "markdown",
   "metadata": {},
   "source": [
    "Comparing Ageerigation on Data"
   ]
  },
  {
   "cell_type": "code",
   "execution_count": 10,
   "metadata": {},
   "outputs": [
    {
     "name": "stdout",
     "output_type": "stream",
     "text": [
      "Pandas time: 14.692779064178467\n"
     ]
    }
   ],
   "source": [
    "start_time = time.time()\n",
    "attacks_per_weapon_type = df.groupby('iyear').size()\n",
    "attacks_per_weapon_type = df.groupby('country_txt').size()\n",
    "attacks_per_weapon_type = df.groupby('region_txt').size()\n",
    "attacks_per_weapon_type = df.groupby('weaptype1_txt').size()\n",
    "end_time = time.time()\n",
    "print(f\"Pandas time: {end_time - start_time}\")\n"
   ]
  },
  {
   "cell_type": "code",
   "execution_count": 12,
   "metadata": {},
   "outputs": [
    {
     "name": "stdout",
     "output_type": "stream",
     "text": [
      "Dask time: 0.10119462013244629\n"
     ]
    }
   ],
   "source": [
    "start_time = time.time()\n",
    "attacks_per_weapon_type = dask_df.groupby('iyear').size().compute()\n",
    "attacks_per_weapon_type = dask_df.groupby('country_txt').size().compute()\n",
    "attacks_per_weapon_type = dask_df.groupby('region_txt').size().compute()\n",
    "attacks_per_weapon_type = dask_df.groupby('weaptype1_txt').size().compute()\n",
    "end_time = time.time()\n",
    "print(f\"Dask time: {end_time - start_time}\")"
   ]
  }
 ],
 "metadata": {
  "kernelspec": {
   "display_name": "Python 3",
   "language": "python",
   "name": "python3"
  },
  "language_info": {
   "codemirror_mode": {
    "name": "ipython",
    "version": 3
   },
   "file_extension": ".py",
   "mimetype": "text/x-python",
   "name": "python",
   "nbconvert_exporter": "python",
   "pygments_lexer": "ipython3",
   "version": "3.11.9"
  }
 },
 "nbformat": 4,
 "nbformat_minor": 2
}
